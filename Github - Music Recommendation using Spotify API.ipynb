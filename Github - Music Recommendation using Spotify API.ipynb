{
 "cells": [
  {
   "cell_type": "markdown",
   "metadata": {},
   "source": [
    "# Music Recommendation using Spotify API "
   ]
  },
  {
   "cell_type": "markdown",
   "metadata": {},
   "source": [
    "This Notebook will go through with <b>Data Cleaning</b>, <b>Data Selecting</b>, <b>Data Visualization</b> and <b>Music Recommendation using Spotify API</b>\n",
    "\n",
    "The data is collected from Kaggle\n",
    "\n",
    "The content of notebook:\n",
    "1. Data Cleaning\n",
    "2. Separating Data before and after year 2000\n",
    "3. Integrating Spotify API and writing functions to get song attributes\n",
    "4. Recommendation System using Cosine Similarity\n",
    "5. Putting all together\n",
    "6. Further Scope"
   ]
  },
  {
   "cell_type": "code",
   "execution_count": 3,
   "metadata": {},
   "outputs": [],
   "source": [
    "import pandas as pd\n",
    "import numpy as np\n",
    "import matplotlib.pyplot as plt\n",
    "import seaborn as sns\n",
    "%matplotlib inline\n",
    "plt.style.use('ggplot')\n",
    "pd.set_option('display.max_columns', None)"
   ]
  },
  {
   "cell_type": "code",
   "execution_count": 4,
   "metadata": {},
   "outputs": [
    {
     "data": {
      "text/html": [
       "<div>\n",
       "<style scoped>\n",
       "    .dataframe tbody tr th:only-of-type {\n",
       "        vertical-align: middle;\n",
       "    }\n",
       "\n",
       "    .dataframe tbody tr th {\n",
       "        vertical-align: top;\n",
       "    }\n",
       "\n",
       "    .dataframe thead th {\n",
       "        text-align: right;\n",
       "    }\n",
       "</style>\n",
       "<table border=\"1\" class=\"dataframe\">\n",
       "  <thead>\n",
       "    <tr style=\"text-align: right;\">\n",
       "      <th></th>\n",
       "      <th>id</th>\n",
       "      <th>name</th>\n",
       "      <th>album</th>\n",
       "      <th>album_id</th>\n",
       "      <th>artists</th>\n",
       "      <th>artist_ids</th>\n",
       "      <th>track_number</th>\n",
       "      <th>disc_number</th>\n",
       "      <th>explicit</th>\n",
       "      <th>danceability</th>\n",
       "      <th>energy</th>\n",
       "      <th>key</th>\n",
       "      <th>loudness</th>\n",
       "      <th>mode</th>\n",
       "      <th>speechiness</th>\n",
       "      <th>acousticness</th>\n",
       "      <th>instrumentalness</th>\n",
       "      <th>liveness</th>\n",
       "      <th>valence</th>\n",
       "      <th>tempo</th>\n",
       "      <th>duration_ms</th>\n",
       "      <th>time_signature</th>\n",
       "      <th>year</th>\n",
       "      <th>release_date</th>\n",
       "    </tr>\n",
       "  </thead>\n",
       "  <tbody>\n",
       "    <tr>\n",
       "      <th>0</th>\n",
       "      <td>7lmeHLHBe4nmXzuXc0HDjk</td>\n",
       "      <td>Testify</td>\n",
       "      <td>The Battle Of Los Angeles</td>\n",
       "      <td>2eia0myWFgoHuttJytCxgX</td>\n",
       "      <td>['Rage Against The Machine']</td>\n",
       "      <td>['2d0hyoQ5ynDBnkvAbJKORj']</td>\n",
       "      <td>1</td>\n",
       "      <td>1</td>\n",
       "      <td>False</td>\n",
       "      <td>0.470</td>\n",
       "      <td>0.978</td>\n",
       "      <td>7</td>\n",
       "      <td>-5.399</td>\n",
       "      <td>1</td>\n",
       "      <td>0.0727</td>\n",
       "      <td>0.02610</td>\n",
       "      <td>0.000011</td>\n",
       "      <td>0.3560</td>\n",
       "      <td>0.503</td>\n",
       "      <td>117.906</td>\n",
       "      <td>210133</td>\n",
       "      <td>4.0</td>\n",
       "      <td>1999</td>\n",
       "      <td>1999-11-02</td>\n",
       "    </tr>\n",
       "    <tr>\n",
       "      <th>1</th>\n",
       "      <td>1wsRitfRRtWyEapl0q22o8</td>\n",
       "      <td>Guerrilla Radio</td>\n",
       "      <td>The Battle Of Los Angeles</td>\n",
       "      <td>2eia0myWFgoHuttJytCxgX</td>\n",
       "      <td>['Rage Against The Machine']</td>\n",
       "      <td>['2d0hyoQ5ynDBnkvAbJKORj']</td>\n",
       "      <td>2</td>\n",
       "      <td>1</td>\n",
       "      <td>True</td>\n",
       "      <td>0.599</td>\n",
       "      <td>0.957</td>\n",
       "      <td>11</td>\n",
       "      <td>-5.764</td>\n",
       "      <td>1</td>\n",
       "      <td>0.1880</td>\n",
       "      <td>0.01290</td>\n",
       "      <td>0.000071</td>\n",
       "      <td>0.1550</td>\n",
       "      <td>0.489</td>\n",
       "      <td>103.680</td>\n",
       "      <td>206200</td>\n",
       "      <td>4.0</td>\n",
       "      <td>1999</td>\n",
       "      <td>1999-11-02</td>\n",
       "    </tr>\n",
       "    <tr>\n",
       "      <th>2</th>\n",
       "      <td>1hR0fIFK2qRG3f3RF70pb7</td>\n",
       "      <td>Calm Like a Bomb</td>\n",
       "      <td>The Battle Of Los Angeles</td>\n",
       "      <td>2eia0myWFgoHuttJytCxgX</td>\n",
       "      <td>['Rage Against The Machine']</td>\n",
       "      <td>['2d0hyoQ5ynDBnkvAbJKORj']</td>\n",
       "      <td>3</td>\n",
       "      <td>1</td>\n",
       "      <td>False</td>\n",
       "      <td>0.315</td>\n",
       "      <td>0.970</td>\n",
       "      <td>7</td>\n",
       "      <td>-5.424</td>\n",
       "      <td>1</td>\n",
       "      <td>0.4830</td>\n",
       "      <td>0.02340</td>\n",
       "      <td>0.000002</td>\n",
       "      <td>0.1220</td>\n",
       "      <td>0.370</td>\n",
       "      <td>149.749</td>\n",
       "      <td>298893</td>\n",
       "      <td>4.0</td>\n",
       "      <td>1999</td>\n",
       "      <td>1999-11-02</td>\n",
       "    </tr>\n",
       "    <tr>\n",
       "      <th>3</th>\n",
       "      <td>2lbASgTSoDO7MTuLAXlTW0</td>\n",
       "      <td>Mic Check</td>\n",
       "      <td>The Battle Of Los Angeles</td>\n",
       "      <td>2eia0myWFgoHuttJytCxgX</td>\n",
       "      <td>['Rage Against The Machine']</td>\n",
       "      <td>['2d0hyoQ5ynDBnkvAbJKORj']</td>\n",
       "      <td>4</td>\n",
       "      <td>1</td>\n",
       "      <td>True</td>\n",
       "      <td>0.440</td>\n",
       "      <td>0.967</td>\n",
       "      <td>11</td>\n",
       "      <td>-5.830</td>\n",
       "      <td>0</td>\n",
       "      <td>0.2370</td>\n",
       "      <td>0.16300</td>\n",
       "      <td>0.000004</td>\n",
       "      <td>0.1210</td>\n",
       "      <td>0.574</td>\n",
       "      <td>96.752</td>\n",
       "      <td>213640</td>\n",
       "      <td>4.0</td>\n",
       "      <td>1999</td>\n",
       "      <td>1999-11-02</td>\n",
       "    </tr>\n",
       "    <tr>\n",
       "      <th>4</th>\n",
       "      <td>1MQTmpYOZ6fcMQc56Hdo7T</td>\n",
       "      <td>Sleep Now In the Fire</td>\n",
       "      <td>The Battle Of Los Angeles</td>\n",
       "      <td>2eia0myWFgoHuttJytCxgX</td>\n",
       "      <td>['Rage Against The Machine']</td>\n",
       "      <td>['2d0hyoQ5ynDBnkvAbJKORj']</td>\n",
       "      <td>5</td>\n",
       "      <td>1</td>\n",
       "      <td>False</td>\n",
       "      <td>0.426</td>\n",
       "      <td>0.929</td>\n",
       "      <td>2</td>\n",
       "      <td>-6.729</td>\n",
       "      <td>1</td>\n",
       "      <td>0.0701</td>\n",
       "      <td>0.00162</td>\n",
       "      <td>0.105000</td>\n",
       "      <td>0.0789</td>\n",
       "      <td>0.539</td>\n",
       "      <td>127.059</td>\n",
       "      <td>205600</td>\n",
       "      <td>4.0</td>\n",
       "      <td>1999</td>\n",
       "      <td>1999-11-02</td>\n",
       "    </tr>\n",
       "  </tbody>\n",
       "</table>\n",
       "</div>"
      ],
      "text/plain": [
       "                       id                   name                      album  \\\n",
       "0  7lmeHLHBe4nmXzuXc0HDjk                Testify  The Battle Of Los Angeles   \n",
       "1  1wsRitfRRtWyEapl0q22o8        Guerrilla Radio  The Battle Of Los Angeles   \n",
       "2  1hR0fIFK2qRG3f3RF70pb7       Calm Like a Bomb  The Battle Of Los Angeles   \n",
       "3  2lbASgTSoDO7MTuLAXlTW0              Mic Check  The Battle Of Los Angeles   \n",
       "4  1MQTmpYOZ6fcMQc56Hdo7T  Sleep Now In the Fire  The Battle Of Los Angeles   \n",
       "\n",
       "                 album_id                       artists  \\\n",
       "0  2eia0myWFgoHuttJytCxgX  ['Rage Against The Machine']   \n",
       "1  2eia0myWFgoHuttJytCxgX  ['Rage Against The Machine']   \n",
       "2  2eia0myWFgoHuttJytCxgX  ['Rage Against The Machine']   \n",
       "3  2eia0myWFgoHuttJytCxgX  ['Rage Against The Machine']   \n",
       "4  2eia0myWFgoHuttJytCxgX  ['Rage Against The Machine']   \n",
       "\n",
       "                   artist_ids  track_number  disc_number  explicit  \\\n",
       "0  ['2d0hyoQ5ynDBnkvAbJKORj']             1            1     False   \n",
       "1  ['2d0hyoQ5ynDBnkvAbJKORj']             2            1      True   \n",
       "2  ['2d0hyoQ5ynDBnkvAbJKORj']             3            1     False   \n",
       "3  ['2d0hyoQ5ynDBnkvAbJKORj']             4            1      True   \n",
       "4  ['2d0hyoQ5ynDBnkvAbJKORj']             5            1     False   \n",
       "\n",
       "   danceability  energy  key  loudness  mode  speechiness  acousticness  \\\n",
       "0         0.470   0.978    7    -5.399     1       0.0727       0.02610   \n",
       "1         0.599   0.957   11    -5.764     1       0.1880       0.01290   \n",
       "2         0.315   0.970    7    -5.424     1       0.4830       0.02340   \n",
       "3         0.440   0.967   11    -5.830     0       0.2370       0.16300   \n",
       "4         0.426   0.929    2    -6.729     1       0.0701       0.00162   \n",
       "\n",
       "   instrumentalness  liveness  valence    tempo  duration_ms  time_signature  \\\n",
       "0          0.000011    0.3560    0.503  117.906       210133             4.0   \n",
       "1          0.000071    0.1550    0.489  103.680       206200             4.0   \n",
       "2          0.000002    0.1220    0.370  149.749       298893             4.0   \n",
       "3          0.000004    0.1210    0.574   96.752       213640             4.0   \n",
       "4          0.105000    0.0789    0.539  127.059       205600             4.0   \n",
       "\n",
       "   year release_date  \n",
       "0  1999   1999-11-02  \n",
       "1  1999   1999-11-02  \n",
       "2  1999   1999-11-02  \n",
       "3  1999   1999-11-02  \n",
       "4  1999   1999-11-02  "
      ]
     },
     "execution_count": 4,
     "metadata": {},
     "output_type": "execute_result"
    }
   ],
   "source": [
    "df = pd.read_csv('D:/Others/New folder/tracks_features.csv')\n",
    "df.head()"
   ]
  },
  {
   "cell_type": "code",
   "execution_count": 3,
   "metadata": {},
   "outputs": [
    {
     "name": "stdout",
     "output_type": "stream",
     "text": [
      "<class 'pandas.core.frame.DataFrame'>\n",
      "RangeIndex: 1204025 entries, 0 to 1204024\n",
      "Data columns (total 24 columns):\n",
      " #   Column            Non-Null Count    Dtype  \n",
      "---  ------            --------------    -----  \n",
      " 0   id                1204025 non-null  object \n",
      " 1   name              1204025 non-null  object \n",
      " 2   album             1204025 non-null  object \n",
      " 3   album_id          1204025 non-null  object \n",
      " 4   artists           1204025 non-null  object \n",
      " 5   artist_ids        1204025 non-null  object \n",
      " 6   track_number      1204025 non-null  int64  \n",
      " 7   disc_number       1204025 non-null  int64  \n",
      " 8   explicit          1204025 non-null  bool   \n",
      " 9   danceability      1204025 non-null  float64\n",
      " 10  energy            1204025 non-null  float64\n",
      " 11  key               1204025 non-null  int64  \n",
      " 12  loudness          1204025 non-null  float64\n",
      " 13  mode              1204025 non-null  int64  \n",
      " 14  speechiness       1204025 non-null  float64\n",
      " 15  acousticness      1204025 non-null  float64\n",
      " 16  instrumentalness  1204025 non-null  float64\n",
      " 17  liveness          1204025 non-null  float64\n",
      " 18  valence           1204025 non-null  float64\n",
      " 19  tempo             1204025 non-null  float64\n",
      " 20  duration_ms       1204025 non-null  int64  \n",
      " 21  time_signature    1204025 non-null  float64\n",
      " 22  year              1204025 non-null  int64  \n",
      " 23  release_date      1204025 non-null  object \n",
      "dtypes: bool(1), float64(10), int64(6), object(7)\n",
      "memory usage: 212.4+ MB\n"
     ]
    }
   ],
   "source": [
    "df.info()"
   ]
  },
  {
   "cell_type": "code",
   "execution_count": 4,
   "metadata": {},
   "outputs": [
    {
     "data": {
      "text/plain": [
       "(1204025, 24)"
      ]
     },
     "execution_count": 4,
     "metadata": {},
     "output_type": "execute_result"
    }
   ],
   "source": [
    "df.shape"
   ]
  },
  {
   "cell_type": "markdown",
   "metadata": {},
   "source": [
    "### Data Cleaning "
   ]
  },
  {
   "cell_type": "code",
   "execution_count": 5,
   "metadata": {},
   "outputs": [],
   "source": [
    "#Remove rows where all values are 0\n",
    "df = df[(df['danceability']!=0) & (df['energy']!=0) & (df['speechiness']!=0) & (df['acousticness']!=0) \n",
    "        & (df['instrumentalness']!=0) & (df['valence']!=0)]\n",
    "\n",
    "#dropping duplicate values. Mostly if the song is explicit or not\n",
    "df = df.drop_duplicates([\"name\",\"artists\"],keep = 'first')\n",
    "\n",
    "#Removing [' '] which are present at the start and end of artists and artists_id\n",
    "df['artists'] = df['artists'].apply(lambda x: x[2:-2])\n",
    "df['artist_ids'] = df['artist_ids'].apply(lambda x: x[2:-2])\n",
    "\n",
    "#Removing year equal to 0\n",
    "df = df[df['year'] != 0]\n",
    "\n",
    "#Removing if artist is not present\n",
    "df = df[~df['artists'].isna()]"
   ]
  },
  {
   "cell_type": "markdown",
   "metadata": {},
   "source": [
    " "
   ]
  },
  {
   "cell_type": "markdown",
   "metadata": {},
   "source": [
    "Dropping columns which won't be needed as we move ahead"
   ]
  },
  {
   "cell_type": "code",
   "execution_count": 6,
   "metadata": {},
   "outputs": [],
   "source": [
    "df.drop(['id','album_id','artist_ids','track_number','disc_number','explicit','key','liveness','mode','loudness','duration_ms','time_signature','release_date'], axis=1,inplace=True)"
   ]
  },
  {
   "cell_type": "code",
   "execution_count": 7,
   "metadata": {},
   "outputs": [
    {
     "data": {
      "text/plain": [
       "(926294, 11)"
      ]
     },
     "execution_count": 7,
     "metadata": {},
     "output_type": "execute_result"
    }
   ],
   "source": [
    "df.shape"
   ]
  },
  {
   "cell_type": "code",
   "execution_count": 8,
   "metadata": {},
   "outputs": [
    {
     "data": {
      "text/html": [
       "<div>\n",
       "<style scoped>\n",
       "    .dataframe tbody tr th:only-of-type {\n",
       "        vertical-align: middle;\n",
       "    }\n",
       "\n",
       "    .dataframe tbody tr th {\n",
       "        vertical-align: top;\n",
       "    }\n",
       "\n",
       "    .dataframe thead th {\n",
       "        text-align: right;\n",
       "    }\n",
       "</style>\n",
       "<table border=\"1\" class=\"dataframe\">\n",
       "  <thead>\n",
       "    <tr style=\"text-align: right;\">\n",
       "      <th></th>\n",
       "      <th>danceability</th>\n",
       "      <th>energy</th>\n",
       "      <th>speechiness</th>\n",
       "      <th>acousticness</th>\n",
       "      <th>instrumentalness</th>\n",
       "      <th>valence</th>\n",
       "      <th>tempo</th>\n",
       "      <th>year</th>\n",
       "    </tr>\n",
       "  </thead>\n",
       "  <tbody>\n",
       "    <tr>\n",
       "      <th>danceability</th>\n",
       "      <td>1.000000</td>\n",
       "      <td>0.290942</td>\n",
       "      <td>0.131025</td>\n",
       "      <td>-0.286995</td>\n",
       "      <td>-0.237270</td>\n",
       "      <td>0.564449</td>\n",
       "      <td>0.075789</td>\n",
       "      <td>0.064371</td>\n",
       "    </tr>\n",
       "    <tr>\n",
       "      <th>energy</th>\n",
       "      <td>0.290942</td>\n",
       "      <td>1.000000</td>\n",
       "      <td>0.184011</td>\n",
       "      <td>-0.808546</td>\n",
       "      <td>-0.249294</td>\n",
       "      <td>0.399442</td>\n",
       "      <td>0.291366</td>\n",
       "      <td>0.155959</td>\n",
       "    </tr>\n",
       "    <tr>\n",
       "      <th>speechiness</th>\n",
       "      <td>0.131025</td>\n",
       "      <td>0.184011</td>\n",
       "      <td>1.000000</td>\n",
       "      <td>-0.122224</td>\n",
       "      <td>-0.102752</td>\n",
       "      <td>0.046464</td>\n",
       "      <td>0.058508</td>\n",
       "      <td>0.054761</td>\n",
       "    </tr>\n",
       "    <tr>\n",
       "      <th>acousticness</th>\n",
       "      <td>-0.286995</td>\n",
       "      <td>-0.808546</td>\n",
       "      <td>-0.122224</td>\n",
       "      <td>1.000000</td>\n",
       "      <td>0.242252</td>\n",
       "      <td>-0.273651</td>\n",
       "      <td>-0.253854</td>\n",
       "      <td>-0.164759</td>\n",
       "    </tr>\n",
       "    <tr>\n",
       "      <th>instrumentalness</th>\n",
       "      <td>-0.237270</td>\n",
       "      <td>-0.249294</td>\n",
       "      <td>-0.102752</td>\n",
       "      <td>0.242252</td>\n",
       "      <td>1.000000</td>\n",
       "      <td>-0.253787</td>\n",
       "      <td>-0.084738</td>\n",
       "      <td>0.010121</td>\n",
       "    </tr>\n",
       "    <tr>\n",
       "      <th>valence</th>\n",
       "      <td>0.564449</td>\n",
       "      <td>0.399442</td>\n",
       "      <td>0.046464</td>\n",
       "      <td>-0.273651</td>\n",
       "      <td>-0.253787</td>\n",
       "      <td>1.000000</td>\n",
       "      <td>0.188633</td>\n",
       "      <td>-0.067354</td>\n",
       "    </tr>\n",
       "    <tr>\n",
       "      <th>tempo</th>\n",
       "      <td>0.075789</td>\n",
       "      <td>0.291366</td>\n",
       "      <td>0.058508</td>\n",
       "      <td>-0.253854</td>\n",
       "      <td>-0.084738</td>\n",
       "      <td>0.188633</td>\n",
       "      <td>1.000000</td>\n",
       "      <td>0.046411</td>\n",
       "    </tr>\n",
       "    <tr>\n",
       "      <th>year</th>\n",
       "      <td>0.064371</td>\n",
       "      <td>0.155959</td>\n",
       "      <td>0.054761</td>\n",
       "      <td>-0.164759</td>\n",
       "      <td>0.010121</td>\n",
       "      <td>-0.067354</td>\n",
       "      <td>0.046411</td>\n",
       "      <td>1.000000</td>\n",
       "    </tr>\n",
       "  </tbody>\n",
       "</table>\n",
       "</div>"
      ],
      "text/plain": [
       "                  danceability    energy  speechiness  acousticness  \\\n",
       "danceability          1.000000  0.290942     0.131025     -0.286995   \n",
       "energy                0.290942  1.000000     0.184011     -0.808546   \n",
       "speechiness           0.131025  0.184011     1.000000     -0.122224   \n",
       "acousticness         -0.286995 -0.808546    -0.122224      1.000000   \n",
       "instrumentalness     -0.237270 -0.249294    -0.102752      0.242252   \n",
       "valence               0.564449  0.399442     0.046464     -0.273651   \n",
       "tempo                 0.075789  0.291366     0.058508     -0.253854   \n",
       "year                  0.064371  0.155959     0.054761     -0.164759   \n",
       "\n",
       "                  instrumentalness   valence     tempo      year  \n",
       "danceability             -0.237270  0.564449  0.075789  0.064371  \n",
       "energy                   -0.249294  0.399442  0.291366  0.155959  \n",
       "speechiness              -0.102752  0.046464  0.058508  0.054761  \n",
       "acousticness              0.242252 -0.273651 -0.253854 -0.164759  \n",
       "instrumentalness          1.000000 -0.253787 -0.084738  0.010121  \n",
       "valence                  -0.253787  1.000000  0.188633 -0.067354  \n",
       "tempo                    -0.084738  0.188633  1.000000  0.046411  \n",
       "year                      0.010121 -0.067354  0.046411  1.000000  "
      ]
     },
     "execution_count": 8,
     "metadata": {},
     "output_type": "execute_result"
    }
   ],
   "source": [
    "df.corr()"
   ]
  },
  {
   "cell_type": "code",
   "execution_count": 9,
   "metadata": {},
   "outputs": [
    {
     "data": {
      "image/png": "[encoded data removed]",
      "text/plain": [
       "<Figure size 432x288 with 2 Axes>"
      ]
     },
     "metadata": {},
     "output_type": "display_data"
    }
   ],
   "source": [
    "sns.heatmap(df.corr());"
   ]
  },
  {
   "cell_type": "markdown",
   "metadata": {},
   "source": [
    "Valence and Danceability & Energy and Valence are closely related among all others"
   ]
  },
  {
   "cell_type": "markdown",
   "metadata": {},
   "source": [
    " "
   ]
  },
  {
   "cell_type": "code",
   "execution_count": 10,
   "metadata": {},
   "outputs": [],
   "source": [
    "#import plotly.express as px "
   ]
  },
  {
   "cell_type": "code",
   "execution_count": 7,
   "metadata": {
    "collapsed": true
   },
   "outputs": [
    {
     "name": "stderr",
     "output_type": "stream",
     "text": [
      "C:\\Users\\Yash\\AppData\\Local\\Temp/ipykernel_9196/329173965.py:1: FutureWarning: Indexing with multiple keys (implicitly converted to a tuple of keys) will be deprecated, use a list instead.\n",
      "  grouped_df_year = df.groupby('year')['acousticness', 'danceability', 'energy', 'instrumentalness', 'valence'].mean()\n"
     ]
    }
   ],
   "source": [
    "grouped_df_year = df.groupby('year')['acousticness', 'danceability', 'energy', 'instrumentalness', 'valence'].mean()"
   ]
  },
  {
   "cell_type": "markdown",
   "metadata": {},
   "source": [
    " "
   ]
  },
  {
   "cell_type": "markdown",
   "metadata": {},
   "source": [
    "From the graph below we can see acousticness decreasing over time while instrumentalness had a pretty big up-down before stabilizing. The energy can also be seen increasing slightly over time"
   ]
  },
  {
   "cell_type": "code",
   "execution_count": 11,
   "metadata": {},
   "outputs": [
    {
     "data": {
      "image/png": "[encoded data removed]",
      "text/plain": [
       "<Figure size 1440x720 with 1 Axes>"
      ]
     },
     "metadata": {},
     "output_type": "display_data"
    },
    {
     "data": {
      "text/plain": [
       "\"\\nsound_features = ['acousticness', 'danceability', 'energy', 'instrumentalness', 'valence']\\nfig = px.line(grouped_df_year, x=grouped_df_year.index, y=sound_features)\\nfig.show()\\n\""
      ]
     },
     "execution_count": 11,
     "metadata": {},
     "output_type": "execute_result"
    }
   ],
   "source": [
    "plt.figure(figsize=(20,10))\n",
    "ax = sns.lineplot(data = grouped_df_year)\n",
    "ax.set(xlabel=\"Year\", ylabel = \"Change in song attributes\")\n",
    "plt.show()\n",
    "\"\"\"\n",
    "sound_features = ['acousticness', 'danceability', 'energy', 'instrumentalness', 'valence']\n",
    "fig = px.line(grouped_df_year, x=grouped_df_year.index, y=sound_features)\n",
    "fig.show()\n",
    "\"\"\""
   ]
  },
  {
   "cell_type": "markdown",
   "metadata": {},
   "source": [
    " "
   ]
  },
  {
   "cell_type": "markdown",
   "metadata": {},
   "source": [
    " "
   ]
  },
  {
   "cell_type": "markdown",
   "metadata": {},
   "source": [
    "### We will see the distribution of songs before and after the year 2000"
   ]
  },
  {
   "cell_type": "code",
   "execution_count": 43,
   "metadata": {},
   "outputs": [
    {
     "name": "stdout",
     "output_type": "stream",
     "text": [
      "Number of songs after year 2000: 761216\n",
      "Number of songs before year 2000: 165078\n"
     ]
    }
   ],
   "source": [
    "df_2000_plus = df[df['year']>=2000]\n",
    "df_2000_minus = df[df['year']<2000]\n",
    "print(\"Number of songs after year 2000: \" + str(len(df_2000_plus)))\n",
    "print(\"Number of songs before year 2000: \" + str(len(df_2000_minus)))"
   ]
  },
  {
   "cell_type": "code",
   "execution_count": 42,
   "metadata": {},
   "outputs": [
    {
     "data": {
      "image/png": "[encoded data removed]",
      "text/plain": [
       "<Figure size 2520x1440 with 1 Axes>"
      ]
     },
     "metadata": {},
     "output_type": "display_data"
    }
   ],
   "source": [
    "plt.figure(figsize=(35,20))\n",
    "df['year'].value_counts().sort_index(ascending = False).plot(kind='bar')\n",
    "plt.show()"
   ]
  },
  {
   "cell_type": "markdown",
   "metadata": {},
   "source": [
    " "
   ]
  },
  {
   "cell_type": "markdown",
   "metadata": {},
   "source": [
    " "
   ]
  },
  {
   "cell_type": "markdown",
   "metadata": {},
   "source": [
    "### Since we have many songs over the year 2000, we'll select them"
   ]
  },
  {
   "cell_type": "code",
   "execution_count": 15,
   "metadata": {},
   "outputs": [],
   "source": [
    "df_2000_plus = df[df['year']>=2000]\n",
    "df_2000_plus = df_2000_plus.reset_index(drop=True)"
   ]
  },
  {
   "cell_type": "code",
   "execution_count": 16,
   "metadata": {},
   "outputs": [],
   "source": [
    "df_2000_plus.to_csv('/cleaned_2000plus.csv')"
   ]
  },
  {
   "cell_type": "code",
   "execution_count": 17,
   "metadata": {},
   "outputs": [],
   "source": [
    "df_2000_plus = pd.read_csv('/cleaned_2000plus.csv')\n",
    "df_2000_plus = df_2000_plus.drop(columns=['Unnamed: 0'])"
   ]
  },
  {
   "cell_type": "code",
   "execution_count": 18,
   "metadata": {},
   "outputs": [
    {
     "data": {
      "text/html": [
       "<div>\n",
       "<style scoped>\n",
       "    .dataframe tbody tr th:only-of-type {\n",
       "        vertical-align: middle;\n",
       "    }\n",
       "\n",
       "    .dataframe tbody tr th {\n",
       "        vertical-align: top;\n",
       "    }\n",
       "\n",
       "    .dataframe thead th {\n",
       "        text-align: right;\n",
       "    }\n",
       "</style>\n",
       "<table border=\"1\" class=\"dataframe\">\n",
       "  <thead>\n",
       "    <tr style=\"text-align: right;\">\n",
       "      <th></th>\n",
       "      <th>name</th>\n",
       "      <th>album</th>\n",
       "      <th>artists</th>\n",
       "      <th>danceability</th>\n",
       "      <th>energy</th>\n",
       "      <th>speechiness</th>\n",
       "      <th>acousticness</th>\n",
       "      <th>instrumentalness</th>\n",
       "      <th>valence</th>\n",
       "      <th>tempo</th>\n",
       "      <th>year</th>\n",
       "    </tr>\n",
       "  </thead>\n",
       "  <tbody>\n",
       "    <tr>\n",
       "      <th>0</th>\n",
       "      <td>Man on a Mission</td>\n",
       "      <td>Do It for Love</td>\n",
       "      <td>Daryl Hall &amp; John Oates</td>\n",
       "      <td>0.787</td>\n",
       "      <td>0.903</td>\n",
       "      <td>0.0315</td>\n",
       "      <td>0.2920</td>\n",
       "      <td>0.000025</td>\n",
       "      <td>0.962</td>\n",
       "      <td>119.946</td>\n",
       "      <td>2018</td>\n",
       "    </tr>\n",
       "    <tr>\n",
       "      <th>1</th>\n",
       "      <td>Someday We'll Know</td>\n",
       "      <td>Do It for Love</td>\n",
       "      <td>Daryl Hall &amp; John Oates</td>\n",
       "      <td>0.565</td>\n",
       "      <td>0.781</td>\n",
       "      <td>0.0308</td>\n",
       "      <td>0.0233</td>\n",
       "      <td>0.000010</td>\n",
       "      <td>0.461</td>\n",
       "      <td>109.977</td>\n",
       "      <td>2018</td>\n",
       "    </tr>\n",
       "    <tr>\n",
       "      <th>2</th>\n",
       "      <td>Forever for You</td>\n",
       "      <td>Do It for Love</td>\n",
       "      <td>Daryl Hall &amp; John Oates</td>\n",
       "      <td>0.651</td>\n",
       "      <td>0.567</td>\n",
       "      <td>0.0240</td>\n",
       "      <td>0.5620</td>\n",
       "      <td>0.000006</td>\n",
       "      <td>0.370</td>\n",
       "      <td>97.030</td>\n",
       "      <td>2018</td>\n",
       "    </tr>\n",
       "    <tr>\n",
       "      <th>3</th>\n",
       "      <td>Life's Too Short</td>\n",
       "      <td>Do It for Love</td>\n",
       "      <td>Daryl Hall &amp; John Oates</td>\n",
       "      <td>0.833</td>\n",
       "      <td>0.805</td>\n",
       "      <td>0.0347</td>\n",
       "      <td>0.0760</td>\n",
       "      <td>0.013600</td>\n",
       "      <td>0.974</td>\n",
       "      <td>116.013</td>\n",
       "      <td>2018</td>\n",
       "    </tr>\n",
       "    <tr>\n",
       "      <th>4</th>\n",
       "      <td>Love in a Dangerous Time</td>\n",
       "      <td>Do It for Love</td>\n",
       "      <td>Daryl Hall &amp; John Oates</td>\n",
       "      <td>0.593</td>\n",
       "      <td>0.950</td>\n",
       "      <td>0.0403</td>\n",
       "      <td>0.1830</td>\n",
       "      <td>0.000251</td>\n",
       "      <td>0.791</td>\n",
       "      <td>99.016</td>\n",
       "      <td>2018</td>\n",
       "    </tr>\n",
       "  </tbody>\n",
       "</table>\n",
       "</div>"
      ],
      "text/plain": [
       "                       name           album                  artists  \\\n",
       "0          Man on a Mission  Do It for Love  Daryl Hall & John Oates   \n",
       "1        Someday We'll Know  Do It for Love  Daryl Hall & John Oates   \n",
       "2           Forever for You  Do It for Love  Daryl Hall & John Oates   \n",
       "3          Life's Too Short  Do It for Love  Daryl Hall & John Oates   \n",
       "4  Love in a Dangerous Time  Do It for Love  Daryl Hall & John Oates   \n",
       "\n",
       "   danceability  energy  speechiness  acousticness  instrumentalness  valence  \\\n",
       "0         0.787   0.903       0.0315        0.2920          0.000025    0.962   \n",
       "1         0.565   0.781       0.0308        0.0233          0.000010    0.461   \n",
       "2         0.651   0.567       0.0240        0.5620          0.000006    0.370   \n",
       "3         0.833   0.805       0.0347        0.0760          0.013600    0.974   \n",
       "4         0.593   0.950       0.0403        0.1830          0.000251    0.791   \n",
       "\n",
       "     tempo  year  \n",
       "0  119.946  2018  \n",
       "1  109.977  2018  \n",
       "2   97.030  2018  \n",
       "3  116.013  2018  \n",
       "4   99.016  2018  "
      ]
     },
     "execution_count": 18,
     "metadata": {},
     "output_type": "execute_result"
    }
   ],
   "source": [
    "df_2000_plus.head()"
   ]
  },
  {
   "cell_type": "markdown",
   "metadata": {},
   "source": [
    "Reducing the size of datatype"
   ]
  },
  {
   "cell_type": "code",
   "execution_count": 19,
   "metadata": {},
   "outputs": [],
   "source": [
    "df_2000_plus['danceability'] = df_2000_plus['danceability'].astype(np.float32)\n",
    "df_2000_plus['energy'] = df_2000_plus['energy'].astype(np.float32)\n",
    "df_2000_plus['speechiness'] = df_2000_plus['speechiness'].astype(np.float32)\n",
    "df_2000_plus['acousticness'] = df_2000_plus['acousticness'].astype(np.float32)\n",
    "df_2000_plus['instrumentalness'] = df_2000_plus['instrumentalness'].astype(np.float32)\n",
    "df_2000_plus['valence'] = df_2000_plus['valence'].astype(np.float32)\n",
    "df_2000_plus['tempo'] = df_2000_plus['tempo'].astype(np.float32)"
   ]
  },
  {
   "cell_type": "code",
   "execution_count": 20,
   "metadata": {},
   "outputs": [
    {
     "data": {
      "text/plain": [
       "(761216, 11)"
      ]
     },
     "execution_count": 20,
     "metadata": {},
     "output_type": "execute_result"
    }
   ],
   "source": [
    "df_2000_plus.shape"
   ]
  },
  {
   "cell_type": "markdown",
   "metadata": {},
   "source": [
    "Paradise song by Coldplay being present in the database"
   ]
  },
  {
   "cell_type": "code",
   "execution_count": 21,
   "metadata": {},
   "outputs": [
    {
     "data": {
      "text/html": [
       "<div>\n",
       "<style scoped>\n",
       "    .dataframe tbody tr th:only-of-type {\n",
       "        vertical-align: middle;\n",
       "    }\n",
       "\n",
       "    .dataframe tbody tr th {\n",
       "        vertical-align: top;\n",
       "    }\n",
       "\n",
       "    .dataframe thead th {\n",
       "        text-align: right;\n",
       "    }\n",
       "</style>\n",
       "<table border=\"1\" class=\"dataframe\">\n",
       "  <thead>\n",
       "    <tr style=\"text-align: right;\">\n",
       "      <th></th>\n",
       "      <th>name</th>\n",
       "      <th>album</th>\n",
       "      <th>artists</th>\n",
       "      <th>danceability</th>\n",
       "      <th>energy</th>\n",
       "      <th>speechiness</th>\n",
       "      <th>acousticness</th>\n",
       "      <th>instrumentalness</th>\n",
       "      <th>valence</th>\n",
       "      <th>tempo</th>\n",
       "      <th>year</th>\n",
       "    </tr>\n",
       "  </thead>\n",
       "  <tbody>\n",
       "    <tr>\n",
       "      <th>549711</th>\n",
       "      <td>Paradise - Live in Buenos Aires</td>\n",
       "      <td>Live in Buenos Aires</td>\n",
       "      <td>Coldplay</td>\n",
       "      <td>0.189</td>\n",
       "      <td>0.872</td>\n",
       "      <td>0.051</td>\n",
       "      <td>0.00193</td>\n",
       "      <td>0.0187</td>\n",
       "      <td>0.19</td>\n",
       "      <td>138.660995</td>\n",
       "      <td>2018</td>\n",
       "    </tr>\n",
       "  </tbody>\n",
       "</table>\n",
       "</div>"
      ],
      "text/plain": [
       "                                   name                 album   artists  \\\n",
       "549711  Paradise - Live in Buenos Aires  Live in Buenos Aires  Coldplay   \n",
       "\n",
       "        danceability  energy  speechiness  acousticness  instrumentalness  \\\n",
       "549711         0.189   0.872        0.051       0.00193            0.0187   \n",
       "\n",
       "        valence       tempo  year  \n",
       "549711     0.19  138.660995  2018  "
      ]
     },
     "execution_count": 21,
     "metadata": {},
     "output_type": "execute_result"
    }
   ],
   "source": [
    "df_2000_plus[(df_2000_plus['name'].str.contains('Paradise')) & (df_2000_plus['artists'].str.contains('Coldplay'))]"
   ]
  },
  {
   "cell_type": "markdown",
   "metadata": {},
   "source": [
    " "
   ]
  },
  {
   "cell_type": "markdown",
   "metadata": {},
   "source": [
    "Hello song by Adele is not present in the database"
   ]
  },
  {
   "cell_type": "code",
   "execution_count": 41,
   "metadata": {},
   "outputs": [
    {
     "data": {
      "text/html": [
       "<div>\n",
       "<style scoped>\n",
       "    .dataframe tbody tr th:only-of-type {\n",
       "        vertical-align: middle;\n",
       "    }\n",
       "\n",
       "    .dataframe tbody tr th {\n",
       "        vertical-align: top;\n",
       "    }\n",
       "\n",
       "    .dataframe thead th {\n",
       "        text-align: right;\n",
       "    }\n",
       "</style>\n",
       "<table border=\"1\" class=\"dataframe\">\n",
       "  <thead>\n",
       "    <tr style=\"text-align: right;\">\n",
       "      <th></th>\n",
       "      <th>name</th>\n",
       "      <th>album</th>\n",
       "      <th>artists</th>\n",
       "      <th>danceability</th>\n",
       "      <th>energy</th>\n",
       "      <th>speechiness</th>\n",
       "      <th>acousticness</th>\n",
       "      <th>instrumentalness</th>\n",
       "      <th>valence</th>\n",
       "      <th>tempo</th>\n",
       "      <th>year</th>\n",
       "    </tr>\n",
       "  </thead>\n",
       "  <tbody>\n",
       "  </tbody>\n",
       "</table>\n",
       "</div>"
      ],
      "text/plain": [
       "Empty DataFrame\n",
       "Columns: [name, album, artists, danceability, energy, speechiness, acousticness, instrumentalness, valence, tempo, year]\n",
       "Index: []"
      ]
     },
     "execution_count": 41,
     "metadata": {},
     "output_type": "execute_result"
    }
   ],
   "source": [
    "df_2000_plus[(df_2000_plus['name'].str.contains('Hello')) & (df_2000_plus['artists'].str.contains('Adele'))]"
   ]
  },
  {
   "cell_type": "markdown",
   "metadata": {},
   "source": [
    " "
   ]
  },
  {
   "cell_type": "markdown",
   "metadata": {},
   "source": [
    "Since we see some songs are not present, if the user has to select the song and get attributes we have to use the Spotify API"
   ]
  },
  {
   "cell_type": "markdown",
   "metadata": {},
   "source": [
    " "
   ]
  },
  {
   "cell_type": "markdown",
   "metadata": {},
   "source": [
    "### Spotify API Integration "
   ]
  },
  {
   "cell_type": "code",
   "execution_count": 22,
   "metadata": {},
   "outputs": [],
   "source": [
    "import spotipy\n",
    "from spotipy.oauth2 import SpotifyClientCredentials"
   ]
  },
  {
   "cell_type": "code",
   "execution_count": 23,
   "metadata": {},
   "outputs": [],
   "source": [
    "client_id = \"<----->\"\n",
    "client_secret = \"<----->\"\n",
    "auth_manager = SpotifyClientCredentials(client_id,client_secret)\n",
    "sp = spotipy.Spotify(auth_manager=auth_manager)"
   ]
  },
  {
   "cell_type": "code",
   "execution_count": 24,
   "metadata": {},
   "outputs": [],
   "source": [
    "def check_if_in_db(song,artist,data):\n",
    "    \"\"\"\n",
    "    this function checks if the song is present in the database or not.\n",
    "    @input song: song name\n",
    "    @input artist: artist name\n",
    "    @input data: the dataframe\n",
    "    @return False if data not present in dataframe, else the song attributes\n",
    "    \"\"\"\n",
    "    try:\n",
    "        song_and_artist = data[(data['name'].str.contains(\"(?i)\"+song,case=False, na=False)) & \n",
    "                               (data['artists'].str.contains(\"(?i)\"+artist,case=False, na=False))]\n",
    "        if (song_and_artist.empty):\n",
    "            return False\n",
    "        else:\n",
    "            sound_properties = song_and_artist.loc[:,['name','artists','danceability','energy','speechiness',\n",
    "                                                      'acousticness','instrumentalness', 'valence']]\n",
    "            return sound_properties\n",
    "    except:\n",
    "        return False\n",
    "\n",
    "def get_song_value(title,artist,data):\n",
    "    \"\"\"\n",
    "    this function gets the song value. it first checks the database. If not there, it gets song via API\n",
    "    @input title: song name\n",
    "    @input artist: artist name\n",
    "    @input data: the dataframe\n",
    "    @return False if song not found, else the song attributes\n",
    "    \"\"\"\n",
    "    \n",
    "    present = check_if_in_db(title,artist,data)\n",
    "    #present = True\n",
    "    \n",
    "    if (type(present) == bool):\n",
    "        try:\n",
    "            tracks = sp.search(title, limit=10, type='track')\n",
    "            \n",
    "            for i in range(0,len(tracks['tracks']['items'])):\n",
    "                if (tracks['tracks']['items'][i]['artists'][0]['name'].casefold() == artist.casefold()):\n",
    "                    song_id = tracks['tracks']['items'][i]['id']\n",
    "            \n",
    "            test_dict = sp.audio_features(song_id)[0]\n",
    "\n",
    "            res = {key: test_dict[key] for key in test_dict.keys() & {'danceability','energy','speechiness',\n",
    "                                                                      'acousticness', 'instrumentalness', 'valence'}}\n",
    "\n",
    "            df = pd.DataFrame(res,index=[0])\n",
    "            df['name'] = title\n",
    "            df['artists'] = artist\n",
    "\n",
    "\n",
    "            df = df[['name','artists','danceability','energy','speechiness','acousticness',\n",
    "                     'instrumentalness','valence']]\n",
    "            return df\n",
    "        except Exception as e:\n",
    "            return False\n",
    "    \n",
    "    else:\n",
    "        return present"
   ]
  },
  {
   "cell_type": "code",
   "execution_count": 25,
   "metadata": {},
   "outputs": [],
   "source": [
    "song_value = get_song_value('paradise','coldplay',df_2000_plus)"
   ]
  },
  {
   "cell_type": "code",
   "execution_count": 26,
   "metadata": {},
   "outputs": [
    {
     "data": {
      "text/html": [
       "<div>\n",
       "<style scoped>\n",
       "    .dataframe tbody tr th:only-of-type {\n",
       "        vertical-align: middle;\n",
       "    }\n",
       "\n",
       "    .dataframe tbody tr th {\n",
       "        vertical-align: top;\n",
       "    }\n",
       "\n",
       "    .dataframe thead th {\n",
       "        text-align: right;\n",
       "    }\n",
       "</style>\n",
       "<table border=\"1\" class=\"dataframe\">\n",
       "  <thead>\n",
       "    <tr style=\"text-align: right;\">\n",
       "      <th></th>\n",
       "      <th>name</th>\n",
       "      <th>artists</th>\n",
       "      <th>danceability</th>\n",
       "      <th>energy</th>\n",
       "      <th>speechiness</th>\n",
       "      <th>acousticness</th>\n",
       "      <th>instrumentalness</th>\n",
       "      <th>valence</th>\n",
       "    </tr>\n",
       "  </thead>\n",
       "  <tbody>\n",
       "    <tr>\n",
       "      <th>549711</th>\n",
       "      <td>Paradise - Live in Buenos Aires</td>\n",
       "      <td>Coldplay</td>\n",
       "      <td>0.189</td>\n",
       "      <td>0.872</td>\n",
       "      <td>0.051</td>\n",
       "      <td>0.00193</td>\n",
       "      <td>0.0187</td>\n",
       "      <td>0.19</td>\n",
       "    </tr>\n",
       "  </tbody>\n",
       "</table>\n",
       "</div>"
      ],
      "text/plain": [
       "                                   name   artists  danceability  energy  \\\n",
       "549711  Paradise - Live in Buenos Aires  Coldplay         0.189   0.872   \n",
       "\n",
       "        speechiness  acousticness  instrumentalness  valence  \n",
       "549711        0.051       0.00193            0.0187     0.19  "
      ]
     },
     "execution_count": 26,
     "metadata": {},
     "output_type": "execute_result"
    }
   ],
   "source": [
    "song_value"
   ]
  },
  {
   "cell_type": "markdown",
   "metadata": {},
   "source": [
    " "
   ]
  },
  {
   "cell_type": "markdown",
   "metadata": {},
   "source": [
    "Ticket to Ride by Kawala was not present in the database, so it got the attribute from Spotify API. The 0 index signifies that song is not present in the database"
   ]
  },
  {
   "cell_type": "code",
   "execution_count": 28,
   "metadata": {},
   "outputs": [],
   "source": [
    "song_value = get_song_value('ticket to ride','kawala',df_2000_plus)"
   ]
  },
  {
   "cell_type": "code",
   "execution_count": 29,
   "metadata": {},
   "outputs": [
    {
     "data": {
      "text/html": [
       "<div>\n",
       "<style scoped>\n",
       "    .dataframe tbody tr th:only-of-type {\n",
       "        vertical-align: middle;\n",
       "    }\n",
       "\n",
       "    .dataframe tbody tr th {\n",
       "        vertical-align: top;\n",
       "    }\n",
       "\n",
       "    .dataframe thead th {\n",
       "        text-align: right;\n",
       "    }\n",
       "</style>\n",
       "<table border=\"1\" class=\"dataframe\">\n",
       "  <thead>\n",
       "    <tr style=\"text-align: right;\">\n",
       "      <th></th>\n",
       "      <th>name</th>\n",
       "      <th>artists</th>\n",
       "      <th>danceability</th>\n",
       "      <th>energy</th>\n",
       "      <th>speechiness</th>\n",
       "      <th>acousticness</th>\n",
       "      <th>instrumentalness</th>\n",
       "      <th>valence</th>\n",
       "    </tr>\n",
       "  </thead>\n",
       "  <tbody>\n",
       "    <tr>\n",
       "      <th>0</th>\n",
       "      <td>ticket to ride</td>\n",
       "      <td>kawala</td>\n",
       "      <td>0.575</td>\n",
       "      <td>0.782</td>\n",
       "      <td>0.0771</td>\n",
       "      <td>0.278</td>\n",
       "      <td>0.000039</td>\n",
       "      <td>0.749</td>\n",
       "    </tr>\n",
       "  </tbody>\n",
       "</table>\n",
       "</div>"
      ],
      "text/plain": [
       "             name artists  danceability  energy  speechiness  acousticness  \\\n",
       "0  ticket to ride  kawala         0.575   0.782       0.0771         0.278   \n",
       "\n",
       "   instrumentalness  valence  \n",
       "0          0.000039    0.749  "
      ]
     },
     "execution_count": 29,
     "metadata": {},
     "output_type": "execute_result"
    }
   ],
   "source": [
    "song_value"
   ]
  },
  {
   "cell_type": "code",
   "execution_count": 44,
   "metadata": {},
   "outputs": [
    {
     "data": {
      "text/html": [
       "<div>\n",
       "<style scoped>\n",
       "    .dataframe tbody tr th:only-of-type {\n",
       "        vertical-align: middle;\n",
       "    }\n",
       "\n",
       "    .dataframe tbody tr th {\n",
       "        vertical-align: top;\n",
       "    }\n",
       "\n",
       "    .dataframe thead th {\n",
       "        text-align: right;\n",
       "    }\n",
       "</style>\n",
       "<table border=\"1\" class=\"dataframe\">\n",
       "  <thead>\n",
       "    <tr style=\"text-align: right;\">\n",
       "      <th></th>\n",
       "      <th>name</th>\n",
       "      <th>artists</th>\n",
       "      <th>danceability</th>\n",
       "      <th>energy</th>\n",
       "      <th>speechiness</th>\n",
       "      <th>acousticness</th>\n",
       "      <th>instrumentalness</th>\n",
       "      <th>valence</th>\n",
       "    </tr>\n",
       "  </thead>\n",
       "  <tbody>\n",
       "    <tr>\n",
       "      <th>0</th>\n",
       "      <td>hello</td>\n",
       "      <td>adele</td>\n",
       "      <td>0.578</td>\n",
       "      <td>0.43</td>\n",
       "      <td>0.0305</td>\n",
       "      <td>0.33</td>\n",
       "      <td>0</td>\n",
       "      <td>0.288</td>\n",
       "    </tr>\n",
       "  </tbody>\n",
       "</table>\n",
       "</div>"
      ],
      "text/plain": [
       "    name artists  danceability  energy  speechiness  acousticness  \\\n",
       "0  hello   adele         0.578    0.43       0.0305          0.33   \n",
       "\n",
       "   instrumentalness  valence  \n",
       "0                 0    0.288  "
      ]
     },
     "execution_count": 44,
     "metadata": {},
     "output_type": "execute_result"
    }
   ],
   "source": [
    "song_value = get_song_value('hello','adele',df_2000_plus)\n",
    "song_value"
   ]
  },
  {
   "cell_type": "markdown",
   "metadata": {},
   "source": [
    " \n",
    " "
   ]
  },
  {
   "cell_type": "markdown",
   "metadata": {},
   "source": [
    "## Cosine Similarity"
   ]
  },
  {
   "cell_type": "code",
   "execution_count": 30,
   "metadata": {},
   "outputs": [],
   "source": [
    "from sklearn.metrics.pairwise import cosine_similarity as cs"
   ]
  },
  {
   "cell_type": "code",
   "execution_count": 31,
   "metadata": {},
   "outputs": [],
   "source": [
    "def recommend_songs_by_similarity(song_data,data=df_2000_plus):\n",
    "    \"\"\"\n",
    "    this function finds the similarity between input and songs in database.\n",
    "    @input song_data: song attributes that we find from the 'get_song_value()' function\n",
    "    @input data: the dataframe\n",
    "    @return top 5 similar songs, else error\n",
    "    \"\"\"\n",
    "    try:        \n",
    "        similar_songs = data.copy()       \n",
    "        sound_properties = similar_songs.loc[:,['danceability','energy','speechiness','acousticness',\n",
    "                                                'instrumentalness', 'valence']]\n",
    "        \n",
    "        similar_songs['Similarity'] = cs(sound_properties,song_data.iloc[:,2:].to_numpy()).squeeze() \n",
    "        \n",
    "        similar_songs = similar_songs.sort_values(by=\"Similarity\",ascending=False)\n",
    "        similar_songs = similar_songs[['artists','name','year','Similarity']]\n",
    "        similar_songs.reset_index(drop=True,inplace=True)\n",
    "        \n",
    "        if(song_data.iloc[0,0]== similar_songs.iloc[0,1] and song_data.iloc[0,1]== similar_songs.iloc[0,0]):\n",
    "            return similar_songs[1:6]\n",
    "        else:\n",
    "            return similar_songs[0:5]\n",
    "    except Exception as e:\n",
    "        print(e)"
   ]
  },
  {
   "cell_type": "markdown",
   "metadata": {},
   "source": [
    "## Final "
   ]
  },
  {
   "cell_type": "code",
   "execution_count": 32,
   "metadata": {},
   "outputs": [
    {
     "data": {
      "text/plain": [
       "(761216, 11)"
      ]
     },
     "execution_count": 32,
     "metadata": {},
     "output_type": "execute_result"
    }
   ],
   "source": [
    "df_2000_plus.shape"
   ]
  },
  {
   "cell_type": "code",
   "execution_count": 33,
   "metadata": {},
   "outputs": [],
   "source": [
    "def main(title,artist,data=df_2000_plus):\n",
    "    \"\"\"\n",
    "    this function is the main function that finds the song attributes and calls similarity function.\n",
    "    @input title: song name\n",
    "    @input artist: artist name\n",
    "    @input data: dataframe\n",
    "    @return top 5 similar songs, input song attribute\n",
    "    \"\"\"\n",
    "    song_value= get_song_value(title,artist,df_2000_plus)\n",
    "    if(type(song_value) == tuple):\n",
    "        song_value = song_value[0]\n",
    "    song_list = recommend_songs_by_similarity(song_value,data)\n",
    "    return (song_list,song_value)"
   ]
  },
  {
   "cell_type": "code",
   "execution_count": 34,
   "metadata": {},
   "outputs": [
    {
     "name": "stdout",
     "output_type": "stream",
     "text": [
      "Song Name:paradise\n",
      "Song Artist:coldplay\n"
     ]
    }
   ],
   "source": [
    "title = str(input('Song Name:'))\n",
    "artist = str(input('Song Artist:'))"
   ]
  },
  {
   "cell_type": "code",
   "execution_count": 35,
   "metadata": {},
   "outputs": [],
   "source": [
    "r_songs,val = main(title,artist)"
   ]
  },
  {
   "cell_type": "code",
   "execution_count": 36,
   "metadata": {},
   "outputs": [
    {
     "data": {
      "text/html": [
       "<div>\n",
       "<style scoped>\n",
       "    .dataframe tbody tr th:only-of-type {\n",
       "        vertical-align: middle;\n",
       "    }\n",
       "\n",
       "    .dataframe tbody tr th {\n",
       "        vertical-align: top;\n",
       "    }\n",
       "\n",
       "    .dataframe thead th {\n",
       "        text-align: right;\n",
       "    }\n",
       "</style>\n",
       "<table border=\"1\" class=\"dataframe\">\n",
       "  <thead>\n",
       "    <tr style=\"text-align: right;\">\n",
       "      <th></th>\n",
       "      <th>artists</th>\n",
       "      <th>name</th>\n",
       "      <th>year</th>\n",
       "      <th>Similarity</th>\n",
       "    </tr>\n",
       "  </thead>\n",
       "  <tbody>\n",
       "    <tr>\n",
       "      <th>1</th>\n",
       "      <td>MacKenzie Caledonian Pipe Band</td>\n",
       "      <td>4/4 Marches: Scotland the Brave / Flett from F...</td>\n",
       "      <td>2015</td>\n",
       "      <td>0.999973</td>\n",
       "    </tr>\n",
       "    <tr>\n",
       "      <th>2</th>\n",
       "      <td>The Daylights</td>\n",
       "      <td>Terra Firma</td>\n",
       "      <td>2010</td>\n",
       "      <td>0.999887</td>\n",
       "    </tr>\n",
       "    <tr>\n",
       "      <th>3</th>\n",
       "      <td>Against The Grain</td>\n",
       "      <td>Eyes</td>\n",
       "      <td>2015</td>\n",
       "      <td>0.999862</td>\n",
       "    </tr>\n",
       "    <tr>\n",
       "      <th>4</th>\n",
       "      <td>Killswitch Engage</td>\n",
       "      <td>My Curse</td>\n",
       "      <td>2006</td>\n",
       "      <td>0.999837</td>\n",
       "    </tr>\n",
       "    <tr>\n",
       "      <th>5</th>\n",
       "      <td>Sons Of Butcher</td>\n",
       "      <td>Rockload</td>\n",
       "      <td>2019</td>\n",
       "      <td>0.999799</td>\n",
       "    </tr>\n",
       "  </tbody>\n",
       "</table>\n",
       "</div>"
      ],
      "text/plain": [
       "                          artists  \\\n",
       "1  MacKenzie Caledonian Pipe Band   \n",
       "2                   The Daylights   \n",
       "3               Against The Grain   \n",
       "4               Killswitch Engage   \n",
       "5                 Sons Of Butcher   \n",
       "\n",
       "                                                name  year  Similarity  \n",
       "1  4/4 Marches: Scotland the Brave / Flett from F...  2015    0.999973  \n",
       "2                                        Terra Firma  2010    0.999887  \n",
       "3                                               Eyes  2015    0.999862  \n",
       "4                                           My Curse  2006    0.999837  \n",
       "5                                           Rockload  2019    0.999799  "
      ]
     },
     "execution_count": 36,
     "metadata": {},
     "output_type": "execute_result"
    }
   ],
   "source": [
    "r_songs"
   ]
  },
  {
   "cell_type": "code",
   "execution_count": 37,
   "metadata": {},
   "outputs": [
    {
     "name": "stdout",
     "output_type": "stream",
     "text": [
      "Song Name:you belong with me\n",
      "Song Artist:taylor swift\n"
     ]
    }
   ],
   "source": [
    "title = str(input('Song Name:'))\n",
    "artist = str(input('Song Artist:'))"
   ]
  },
  {
   "cell_type": "code",
   "execution_count": 38,
   "metadata": {},
   "outputs": [],
   "source": [
    "r_songs,val = main(title,artist)"
   ]
  },
  {
   "cell_type": "code",
   "execution_count": 39,
   "metadata": {},
   "outputs": [
    {
     "data": {
      "text/html": [
       "<div>\n",
       "<style scoped>\n",
       "    .dataframe tbody tr th:only-of-type {\n",
       "        vertical-align: middle;\n",
       "    }\n",
       "\n",
       "    .dataframe tbody tr th {\n",
       "        vertical-align: top;\n",
       "    }\n",
       "\n",
       "    .dataframe thead th {\n",
       "        text-align: right;\n",
       "    }\n",
       "</style>\n",
       "<table border=\"1\" class=\"dataframe\">\n",
       "  <thead>\n",
       "    <tr style=\"text-align: right;\">\n",
       "      <th></th>\n",
       "      <th>artists</th>\n",
       "      <th>name</th>\n",
       "      <th>year</th>\n",
       "      <th>Similarity</th>\n",
       "    </tr>\n",
       "  </thead>\n",
       "  <tbody>\n",
       "    <tr>\n",
       "      <th>0</th>\n",
       "      <td>Razika</td>\n",
       "      <td>Vondt I Hjertet</td>\n",
       "      <td>2011</td>\n",
       "      <td>0.999989</td>\n",
       "    </tr>\n",
       "    <tr>\n",
       "      <th>1</th>\n",
       "      <td>Kim Tibbs</td>\n",
       "      <td>Soul!</td>\n",
       "      <td>2016</td>\n",
       "      <td>0.999958</td>\n",
       "    </tr>\n",
       "    <tr>\n",
       "      <th>2</th>\n",
       "      <td>Thirteenth Tribe</td>\n",
       "      <td>Fires Burn</td>\n",
       "      <td>2001</td>\n",
       "      <td>0.999949</td>\n",
       "    </tr>\n",
       "    <tr>\n",
       "      <th>3</th>\n",
       "      <td>Jupiter Sunrise</td>\n",
       "      <td>Super X-Ray Vision</td>\n",
       "      <td>2007</td>\n",
       "      <td>0.999935</td>\n",
       "    </tr>\n",
       "    <tr>\n",
       "      <th>4</th>\n",
       "      <td>Louis Cole', 'Genevieve Artadi</td>\n",
       "      <td>Dance of Doom</td>\n",
       "      <td>2017</td>\n",
       "      <td>0.999928</td>\n",
       "    </tr>\n",
       "  </tbody>\n",
       "</table>\n",
       "</div>"
      ],
      "text/plain": [
       "                          artists                name  year  Similarity\n",
       "0                          Razika     Vondt I Hjertet  2011    0.999989\n",
       "1                       Kim Tibbs               Soul!  2016    0.999958\n",
       "2                Thirteenth Tribe          Fires Burn  2001    0.999949\n",
       "3                 Jupiter Sunrise  Super X-Ray Vision  2007    0.999935\n",
       "4  Louis Cole', 'Genevieve Artadi       Dance of Doom  2017    0.999928"
      ]
     },
     "execution_count": 39,
     "metadata": {},
     "output_type": "execute_result"
    }
   ],
   "source": [
    "r_songs"
   ]
  },
  {
   "cell_type": "code",
   "execution_count": 40,
   "metadata": {},
   "outputs": [
    {
     "data": {
      "text/html": [
       "<div>\n",
       "<style scoped>\n",
       "    .dataframe tbody tr th:only-of-type {\n",
       "        vertical-align: middle;\n",
       "    }\n",
       "\n",
       "    .dataframe tbody tr th {\n",
       "        vertical-align: top;\n",
       "    }\n",
       "\n",
       "    .dataframe thead th {\n",
       "        text-align: right;\n",
       "    }\n",
       "</style>\n",
       "<table border=\"1\" class=\"dataframe\">\n",
       "  <thead>\n",
       "    <tr style=\"text-align: right;\">\n",
       "      <th></th>\n",
       "      <th>name</th>\n",
       "      <th>artists</th>\n",
       "      <th>danceability</th>\n",
       "      <th>energy</th>\n",
       "      <th>speechiness</th>\n",
       "      <th>acousticness</th>\n",
       "      <th>instrumentalness</th>\n",
       "      <th>valence</th>\n",
       "    </tr>\n",
       "  </thead>\n",
       "  <tbody>\n",
       "    <tr>\n",
       "      <th>0</th>\n",
       "      <td>you belong with me</td>\n",
       "      <td>taylor swift</td>\n",
       "      <td>0.632</td>\n",
       "      <td>0.773</td>\n",
       "      <td>0.0346</td>\n",
       "      <td>0.0623</td>\n",
       "      <td>0</td>\n",
       "      <td>0.474</td>\n",
       "    </tr>\n",
       "  </tbody>\n",
       "</table>\n",
       "</div>"
      ],
      "text/plain": [
       "                 name       artists  danceability  energy  speechiness  \\\n",
       "0  you belong with me  taylor swift         0.632   0.773       0.0346   \n",
       "\n",
       "   acousticness  instrumentalness  valence  \n",
       "0        0.0623                 0    0.474  "
      ]
     },
     "execution_count": 40,
     "metadata": {},
     "output_type": "execute_result"
    }
   ],
   "source": [
    "val"
   ]
  },
  {
   "cell_type": "markdown",
   "metadata": {},
   "source": [
    " "
   ]
  },
  {
   "cell_type": "markdown",
   "metadata": {},
   "source": [
    " "
   ]
  },
  {
   "cell_type": "markdown",
   "metadata": {},
   "source": [
    "## What can be improved further "
   ]
  },
  {
   "cell_type": "markdown",
   "metadata": {},
   "source": [
    "1. The songs are appended to the existing dataframe to have a bigger dataset\n",
    "2. Finding other methods for recommendation to find better options\n",
    "3. Any other data analysis"
   ]
  },
  {
   "cell_type": "markdown",
   "metadata": {},
   "source": [
    " "
   ]
  },
  {
   "cell_type": "markdown",
   "metadata": {},
   "source": [
    "Thank you!"
   ]
  }
 ],
 "metadata": {
  "kernelspec": {
   "display_name": "Python 3",
   "language": "python",
   "name": "python3"
  },
  "language_info": {
   "codemirror_mode": {
    "name": "ipython",
    "version": 3
   },
   "file_extension": ".py",
   "mimetype": "text/x-python",
   "name": "python",
   "nbconvert_exporter": "python",
   "pygments_lexer": "ipython3",
   "version": "3.9.1"
  }
 },
 "nbformat": 4,
 "nbformat_minor": 4
}
